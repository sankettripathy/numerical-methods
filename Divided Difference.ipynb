{
 "cells": [
  {
   "cell_type": "code",
   "execution_count": null,
   "metadata": {},
   "outputs": [],
   "source": [
    "#RUN ALL THE CELLS\n",
    "#INPUT DATA IN THE 3RD CELL"
   ]
  },
  {
   "cell_type": "code",
   "execution_count": 12,
   "metadata": {},
   "outputs": [],
   "source": [
    "import numpy as np\n",
    "a,b=[],[]"
   ]
  },
  {
   "cell_type": "code",
   "execution_count": 13,
   "metadata": {},
   "outputs": [],
   "source": [
    "k=int(input(\"No. of elements- \"))\n",
    "for j in range(k):\n",
    "    m=float(input(\"x: \"))\n",
    "    n=float(input(\"y: \"))\n",
    "    a.append(n)\n",
    "    b.append(m)\n",
    "a=np.array(a)\n",
    "b=np.array(b)\n",
    "d=a\n"
   ]
  },
  {
   "cell_type": "code",
   "execution_count": null,
   "metadata": {},
   "outputs": [],
   "source": [
    "n=float(input(\"\"))\n",
    "a=d\n",
    "ct=1\n",
    "gt=a[0]\n",
    "print(\"Difference Table\")\n",
    "for i in range(k-1):\n",
    "    ct=ct * (n-b[i])\n",
    "    a=(a[1:]-a[:-1])/(b[(i+1):]-b[:-(i+1)])\n",
    "    print(a)\n",
    "    gt = gt + ct*(a[0])\n",
    "print(gt)"
   ]
  }
 ],
 "metadata": {
  "kernelspec": {
   "display_name": "Python 3.9.12 ('base')",
   "language": "python",
   "name": "python3"
  },
  "language_info": {
   "codemirror_mode": {
    "name": "ipython",
    "version": 3
   },
   "file_extension": ".py",
   "mimetype": "text/x-python",
   "name": "python",
   "nbconvert_exporter": "python",
   "pygments_lexer": "ipython3",
   "version": "3.9.12"
  },
  "orig_nbformat": 4,
  "vscode": {
   "interpreter": {
    "hash": "dc07d24e2f18896857f0b2a651fe84ba40ce7b297e58d8804a308c8039f752a6"
   }
  }
 },
 "nbformat": 4,
 "nbformat_minor": 2
}
