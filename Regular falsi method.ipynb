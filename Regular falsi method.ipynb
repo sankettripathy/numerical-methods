{
 "cells": [
  {
   "cell_type": "code",
   "execution_count": 9,
   "id": "d75072e2",
   "metadata": {
    "scrolled": false
   },
   "outputs": [
    {
     "name": "stdout",
     "output_type": "stream",
     "text": [
      "a: 1\n",
      "b: 2\n"
     ]
    }
   ],
   "source": [
    "import numpy as np\n",
    "a=float(input(\"a: \"))\n",
    "b=float(input(\"b: \"))\n",
    "f=lambda x: x + np.log(x) - 2"
   ]
  },
  {
   "cell_type": "code",
   "execution_count": 10,
   "id": "178515ab",
   "metadata": {
    "scrolled": true
   },
   "outputs": [
    {
     "name": "stdout",
     "output_type": "stream",
     "text": [
      "0 1.0 2.0 -1.0 0.6931471805599454 1.5906161091496411 0.05473754035812828\n",
      "1 1.0 1.5906161091496411 -1.0 0.05473754035812828 1.5599650022403695 0.004628388788857407\n",
      "2 1.0 1.5599650022403695 -1.0 0.004628388788857407 1.55738520679815 0.0003934722609995056\n",
      "3 1.0 1.55738520679815 -1.0 0.0003934722609995056 1.557165977441254 3.346540886273175e-05\n",
      "4 1.0 1.557165977441254 -1.0 3.346540886273175e-05 1.5571473322779825 2.846393626132482e-06\n",
      "5 1.0 1.5571473322779825 -1.0 2.846393626132482e-06 1.557145746421881 2.421002349706214e-07\n",
      "6 1.0 1.557145746421881 -1.0 2.421002349706214e-07 1.5571456115367974 2.059186021696746e-08\n",
      "7 1.0 1.5571456115367974 -1.0 2.059186021696746e-08 1.557145600064133 1.7514425465492423e-09\n",
      "8 1.0 1.557145600064133 -1.0 1.7514425465492423e-09 1.5571455990883245 1.4896928135499365e-10\n",
      "9 1.0 1.5571455990883245 -1.0 1.4896928135499365e-10 1.557145599005327 1.2670309246232137e-11\n"
     ]
    }
   ],
   "source": [
    "for ap in range(10):\n",
    "    print(ap,a,b,f(a),f(b),end=\" \")\n",
    "    y=(b*np.abs(f(a)) + a*np.abs(f(b)))/(np.abs(f(a))+np.abs(f(b)))\n",
    "    z=f(y)\n",
    "    print(y,z)\n",
    "    if(f(a)*z < 0):\n",
    "        b=y\n",
    "    else:\n",
    "        a=y"
   ]
  }
 ],
 "metadata": {
  "kernelspec": {
   "display_name": "Python 3 (ipykernel)",
   "language": "python",
   "name": "python3"
  },
  "language_info": {
   "codemirror_mode": {
    "name": "ipython",
    "version": 3
   },
   "file_extension": ".py",
   "mimetype": "text/x-python",
   "name": "python",
   "nbconvert_exporter": "python",
   "pygments_lexer": "ipython3",
   "version": "3.10.4"
  }
 },
 "nbformat": 4,
 "nbformat_minor": 5
}
